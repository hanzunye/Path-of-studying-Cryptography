{
 "cells": [
  {
   "cell_type": "code",
   "execution_count": 1,
   "id": "e465dbc0",
   "metadata": {},
   "outputs": [],
   "source": [
    "# Algorithm Extended Euclidean algorithm\n",
    "# d = gcd(a,b) and integers x,y satisfying ax + by = d."
   ]
  },
  {
   "cell_type": "code",
   "execution_count": 4,
   "id": "3ba37928",
   "metadata": {},
   "outputs": [],
   "source": [
    "def extended_euclidean(a,b):\n",
    "    if b == 0:\n",
    "        d = a\n",
    "        x = 1\n",
    "        y = 0\n",
    "        return d,x,y\n",
    "    else:\n",
    "        x2 = 1\n",
    "        x1 = 0 \n",
    "        y2 = 0 \n",
    "        y1 = 1\n",
    "        while b > 0:\n",
    "            q = int(a/b)\n",
    "            r = a%b\n",
    "            x = x2 -q*x1\n",
    "            y = y2 -q*y1\n",
    "            a = b\n",
    "            b = r\n",
    "            x2 = x1\n",
    "            x1 = x\n",
    "            y2 = y1\n",
    "            y1 = y\n",
    "        d = a\n",
    "        x = x2\n",
    "        y = y2\n",
    "        return d,x,y"
   ]
  },
  {
   "cell_type": "code",
   "execution_count": 6,
   "id": "825d50df",
   "metadata": {},
   "outputs": [
    {
     "data": {
      "text/plain": [
       "(6, -1, 2)"
      ]
     },
     "execution_count": 6,
     "metadata": {},
     "output_type": "execute_result"
    }
   ],
   "source": [
    "extended_euclidean(42,24)"
   ]
  },
  {
   "cell_type": "code",
   "execution_count": null,
   "id": "dc1a9931",
   "metadata": {},
   "outputs": [],
   "source": []
  }
 ],
 "metadata": {
  "kernelspec": {
   "display_name": "Python 3",
   "language": "python",
   "name": "python3"
  },
  "language_info": {
   "codemirror_mode": {
    "name": "ipython",
    "version": 3
   },
   "file_extension": ".py",
   "mimetype": "text/x-python",
   "name": "python",
   "nbconvert_exporter": "python",
   "pygments_lexer": "ipython3",
   "version": "3.8.5"
  }
 },
 "nbformat": 4,
 "nbformat_minor": 5
}
